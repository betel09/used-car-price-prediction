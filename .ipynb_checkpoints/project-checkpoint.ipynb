{
 "cells": [
  {
   "cell_type": "code",
   "execution_count": 7,
   "id": "6df10e95-ffef-4ab6-a363-6423456e2d7d",
   "metadata": {},
   "outputs": [
    {
     "name": "stdout",
     "output_type": "stream",
     "text": [
      "Column Names in Dataset:\n",
      "Index(['Brand', 'model', 'Year', 'Age', 'kmDriven', 'Transmission', 'Owner',\n",
      "       'FuelType', 'PostedDate', 'AdditionInfo', 'AskPrice'],\n",
      "      dtype='object')\n"
     ]
    }
   ],
   "source": [
    "print(\"Column Names in Dataset:\")\n",
    "print(df.columns)\n"
   ]
  },
  {
   "cell_type": "code",
   "execution_count": 17,
   "id": "16375e1f-02ef-42bf-98db-c3fe046afd37",
   "metadata": {},
   "outputs": [
    {
     "name": "stdout",
     "output_type": "stream",
     "text": [
      "Initial Data Info:\n",
      "<class 'pandas.core.frame.DataFrame'>\n",
      "RangeIndex: 9582 entries, 0 to 9581\n",
      "Data columns (total 11 columns):\n",
      " #   Column        Non-Null Count  Dtype \n",
      "---  ------        --------------  ----- \n",
      " 0   Brand         9582 non-null   object\n",
      " 1   model         9582 non-null   object\n",
      " 2   Year          9582 non-null   int64 \n",
      " 3   Age           9582 non-null   int64 \n",
      " 4   kmDriven      9535 non-null   object\n",
      " 5   Transmission  9582 non-null   object\n",
      " 6   Owner         9582 non-null   object\n",
      " 7   FuelType      9582 non-null   object\n",
      " 8   PostedDate    9582 non-null   object\n",
      " 9   AdditionInfo  9582 non-null   object\n",
      " 10  AskPrice      9582 non-null   object\n",
      "dtypes: int64(2), object(9)\n",
      "memory usage: 823.6+ KB\n",
      "None\n",
      "Missing Values:\n",
      "Brand            0\n",
      "model            0\n",
      "Year             0\n",
      "Age              0\n",
      "kmDriven        47\n",
      "Transmission     0\n",
      "Owner            0\n",
      "FuelType         0\n",
      "PostedDate       0\n",
      "AdditionInfo     0\n",
      "AskPrice         0\n",
      "dtype: int64\n",
      "Model Performance:\n",
      "MSE: 549237739701.47\n",
      "R² Score: 0.80\n",
      "Model saved as used_car_price_model.pkl\n"
     ]
    }
   ],
   "source": [
    "import pandas as pd\n",
    "import numpy as np\n",
    "import seaborn as sns\n",
    "import matplotlib.pyplot as plt\n",
    "from sklearn.model_selection import train_test_split\n",
    "from sklearn.ensemble import RandomForestRegressor\n",
    "from sklearn.metrics import mean_squared_error, r2_score\n",
    "import joblib\n",
    "\n",
    "# Step 1: Load the Dataset\n",
    "df = pd.read_csv('used_car_dataset.csv')\n",
    "\n",
    "# Step 2: Data Preprocessing\n",
    "print(\"Initial Data Info:\")\n",
    "print(df.info())\n",
    "print(\"Missing Values:\")\n",
    "print(df.isnull().sum())\n",
    "\n",
    "# Clean the 'AskPrice' column to remove currency symbols and commas, and convert it to numeric\n",
    "df['AskPrice'] = df['AskPrice'].replace({'₹': '', ',': ''}, regex=True).astype(float)\n",
    "\n",
    "# Drop rows with missing target values (assuming 'AskPrice' is the target column)\n",
    "df = df.dropna(subset=['AskPrice'])\n",
    "\n",
    "# Fill missing categorical values with mode\n",
    "for col in df.select_dtypes(include=['object']).columns:\n",
    "    df[col] = df[col].fillna(df[col].mode()[0])\n",
    "\n",
    "# Fill missing numerical values with median\n",
    "for col in df.select_dtypes(include=['int64', 'float64']).columns:\n",
    "    df[col] = df[col].fillna(df[col].median())\n",
    "\n",
    "# Step 3: Encode categorical variables, excluding 'AskPrice' from the encoding\n",
    "categorical_cols = df.select_dtypes(include=['object']).columns\n",
    "categorical_cols = categorical_cols[categorical_cols != 'AskPrice']  # Exclude 'AskPrice'\n",
    "df = pd.get_dummies(df, columns=categorical_cols, drop_first=True)\n",
    "\n",
    "# Step 4: Feature Selection\n",
    "X = df.drop(columns=['AskPrice'])  # Features\n",
    "y = df['AskPrice']  # Target\n",
    "\n",
    "# Step 5: Train-Test Split\n",
    "X_train, X_test, y_train, y_test = train_test_split(X, y, test_size=0.2, random_state=42)\n",
    "\n",
    "# Step 6: Model Training\n",
    "model = RandomForestRegressor(n_estimators=100, random_state=42)\n",
    "model.fit(X_train, y_train)\n",
    "\n",
    "# Step 7: Model Evaluation\n",
    "y_pred = model.predict(X_test)\n",
    "mse = mean_squared_error(y_test, y_pred)\n",
    "r2 = r2_score(y_test, y_pred)\n",
    "print(f\"Model Performance:\\nMSE: {mse:.2f}\\nR² Score: {r2:.2f}\")\n",
    "\n",
    "# Step 8: Save the Model\n",
    "joblib.dump(model, \"used_car_price_model.pkl\")\n",
    "print(\"Model saved as used_car_price_model.pkl\")\n"
   ]
  },
  {
   "cell_type": "code",
   "execution_count": null,
   "id": "1e51a395-52bf-47bb-8d20-93af3b7c2b0f",
   "metadata": {},
   "outputs": [],
   "source": []
  }
 ],
 "metadata": {
  "kernelspec": {
   "display_name": "Python 3 (ipykernel)",
   "language": "python",
   "name": "python3"
  },
  "language_info": {
   "codemirror_mode": {
    "name": "ipython",
    "version": 3
   },
   "file_extension": ".py",
   "mimetype": "text/x-python",
   "name": "python",
   "nbconvert_exporter": "python",
   "pygments_lexer": "ipython3",
   "version": "3.12.7"
  }
 },
 "nbformat": 4,
 "nbformat_minor": 5
}
